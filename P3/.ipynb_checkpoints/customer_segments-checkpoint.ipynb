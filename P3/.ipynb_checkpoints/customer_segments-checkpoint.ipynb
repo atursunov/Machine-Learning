{
 "cells": [
  {
   "cell_type": "markdown",
   "metadata": {},
   "source": [
    "# Creating Customer Segments"
   ]
  },
  {
   "cell_type": "markdown",
   "metadata": {},
   "source": [
    "In this project you, will analyze a dataset containing annual spending amounts for internal structure, to understand the variation in the different types of customers that a wholesale distributor interacts with.\n",
    "\n",
    "Instructions:\n",
    "\n",
    "- Run each code block below by pressing **Shift+Enter**, making sure to implement any steps marked with a TODO.\n",
    "- Answer each question in the space provided by editing the blocks labeled \"Answer:\".\n",
    "- When you are done, submit the completed notebook (.ipynb) with all code blocks executed, as well as a .pdf version (File > Download as)."
   ]
  },
  {
   "cell_type": "code",
   "execution_count": 31,
   "metadata": {
    "collapsed": false
   },
   "outputs": [
    {
     "name": "stdout",
     "output_type": "stream",
     "text": [
      "Dataset has 440 rows, 6 columns\n",
      "   Fresh  Milk  Grocery  Frozen  Detergents_Paper  Delicatessen\n",
      "0  12669  9656     7561     214              2674          1338\n",
      "1   7057  9810     9568    1762              3293          1776\n",
      "2   6353  8808     7684    2405              3516          7844\n",
      "3  13265  1196     4221    6404               507          1788\n",
      "4  22615  5410     7198    3915              1777          5185\n"
     ]
    }
   ],
   "source": [
    "# Import libraries: NumPy, pandas, matplotlib\n",
    "import numpy as np\n",
    "import pandas as pd\n",
    "import matplotlib.pyplot as plt\n",
    "from sklearn.preprocessing import normalize\n",
    "\n",
    "# Tell iPython to include plots inline in the notebook\n",
    "%matplotlib inline\n",
    "\n",
    "# Read dataset\n",
    "data = pd.read_csv(\"wholesale-customers.csv\")\n",
    "print \"Dataset has {} rows, {} columns\".format(*data.shape)\n",
    "print data.head()  # print the first 5 rows\n",
    "\n",
    "\n",
    "\n",
    "# Normalizing/Scaling Data\n",
    "#data = normalize(data)"
   ]
  },
  {
   "cell_type": "markdown",
   "metadata": {},
   "source": [
    "##Feature Transformation"
   ]
  },
  {
   "cell_type": "markdown",
   "metadata": {},
   "source": [
    "**1)** In this section you will be using PCA and ICA to start to understand the structure of the data. Before doing any computations, what do you think will show up in your computations? List one or two ideas for what might show up as the first PCA dimensions, or what type of vectors will show up as ICA dimensions."
   ]
  },
  {
   "cell_type": "markdown",
   "metadata": {},
   "source": [
    "Answer:\n",
    "Based on the Read_Me file, I expect 'Fresh' and 'Grocery' play most role( biggest impact) on the first Principle Component Analysis because they have the highest variance among our features and they can show better differentiate  between customer segments.\n",
    "\n",
    "\n",
    "ICA basically act differently and it shows unrelated and independents features. I expect to see a 6 x 6 matrix with 6 vectors, because we are using all 6 features, and each vector most probably shows a unique cluster of independent items."
   ]
  },
  {
   "cell_type": "markdown",
   "metadata": {},
   "source": [
    "###PCA"
   ]
  },
  {
   "cell_type": "code",
   "execution_count": 32,
   "metadata": {
    "collapsed": false
   },
   "outputs": [
    {
     "name": "stdout",
     "output_type": "stream",
     "text": [
      "                      PC-1      PC-2      PC-3      PC-4      PC-5      PC-6\n",
      "Fresh            -0.976537 -0.110614 -0.178557 -0.041876  0.015986 -0.015763\n",
      "Milk             -0.121184  0.515802  0.509887 -0.645640  0.203236  0.033492\n",
      "Grocery          -0.061540  0.764606 -0.275781  0.375460 -0.160292  0.410939\n",
      "Frozen           -0.152365 -0.018723  0.714200  0.646292  0.220186 -0.013289\n",
      "Detergents_Paper  0.007054  0.365351 -0.204410  0.149380  0.207930 -0.871284\n",
      "Delicatessen     -0.068105  0.057079  0.283217 -0.020396 -0.917077 -0.265417\n",
      "\n",
      "              Cum_Vari  Exp_Vari\n",
      "P_Components                    \n",
      "1             0.459614  0.459614\n",
      "2             0.864786  0.405172\n",
      "3             0.934816  0.070030\n",
      "4             0.978839  0.044023\n",
      "5             0.993862  0.015022\n",
      "6             1.000000  0.006138\n"
     ]
    }
   ],
   "source": [
    "# TODO: Apply PCA with the same number of dimensions as variables in the dataset\n",
    "from sklearn.decomposition import PCA\n",
    "pca = PCA(n_components=data.shape[1])\n",
    "pca.fit(data)\n",
    "# Print the components and the amount of variance in the data contained in each dimension\n",
    "\n",
    "\n",
    "df = pd.DataFrame(pca.components_ ,columns=data.columns).T\n",
    "df.columns = [\"PC-%i\"%(n) for n in range(1,7)]\n",
    "print df\n",
    " \n",
    "\n",
    "\n",
    "variance_ratio = (pd.DataFrame({'Cum_Vari':(pca.explained_variance_ratio_).cumsum(dtype=float)\n",
    "                    ,'Exp_Vari':pca.explained_variance_ratio_}\n",
    "                    ,index=xrange(1,7)))\n",
    "variance_ratio.index.name = 'P_Components'\n",
    "print '\\n',variance_ratio\n"
   ]
  },
  {
   "cell_type": "markdown",
   "metadata": {},
   "source": [
    "**2)** How quickly does the variance drop off by dimension? If you were to use PCA on this dataset, how many dimensions would you choose for your analysis? Why?"
   ]
  },
  {
   "cell_type": "markdown",
   "metadata": {
    "collapsed": true
   },
   "source": [
    "Answer:\n",
    "\n",
    "First and second diminution both have more than 40% variance and both together account more than 86% of the variance in the data.\n",
    "But after that there is huge drop for second diminution (only 7%), I would say variance drops off after. \n",
    "\n",
    "Most Probably I would have chosen 2 or 3. Component one, two are explaining more than 86% of the data. Also we can go a little bit further and consider even component 3. Now these three components are explaining more than 93% of data. But it totally depends on why we are reducing dimensionality.\n"
   ]
  },
  {
   "cell_type": "markdown",
   "metadata": {},
   "source": [
    "**3)** What do the dimensions seem to represent? How can you use this information?"
   ]
  },
  {
   "cell_type": "markdown",
   "metadata": {
    "collapsed": true
   },
   "source": [
    "Answer:\n",
    "\n",
    "These number represent correlation of each items (Fresh, Milk, Grocery, …) with components. \n",
    "\n",
    "For example the PC-1 is strongly correlated with with Fresh (-0.97). This information tells us first diminution (PC-1) is more talking about Fresh (-0.97) feature and then a little bit about  Frozen (0.15).\n",
    "\n",
    "PC-2 is is strongly correlated with Grocery(0.76) and milk(0.51). it tells us, this dimentions more shows about Grocery and milk. It also shows if we change one of them, anothe one also will change. It means these two items are a group or cluster.\n",
    "\n",
    "How can you use this information?\n",
    "For instance PC-1 shows less demand for Fresh (-0.97) or there is a nice corealation in PC-4 between Milk (-0.64) and Frozen (0.64).We might be able to use this Information to clustering order types.\n"
   ]
  },
  {
   "cell_type": "markdown",
   "metadata": {},
   "source": [
    "###ICA"
   ]
  },
  {
   "cell_type": "code",
   "execution_count": 44,
   "metadata": {
    "collapsed": false,
    "scrolled": true
   },
   "outputs": [
    {
     "name": "stdout",
     "output_type": "stream",
     "text": [
      "                         ICA-1         ICA-2         ICA-3         ICA-4         ICA-5         ICA-6\n",
      "Fresh             8.651469e-07 -2.987710e-07  1.538329e-07  2.100015e-07 -3.864882e-07 -3.976018e-06\n",
      "Milk              1.406143e-07  2.314866e-06  9.844350e-06 -1.881081e-06 -2.195433e-07  8.600912e-07\n",
      "Grocery          -7.739441e-07  1.204060e-05 -5.812865e-06  6.458435e-06 -6.001371e-07  6.299499e-07\n",
      "Frozen           -1.114622e-05 -1.463912e-06 -3.633293e-07  4.070839e-07 -5.220827e-07  6.769580e-07\n",
      "Detergents_Paper  5.541871e-07 -2.820254e-05  3.324308e-06 -8.807803e-07  5.096343e-07 -2.073319e-06\n",
      "Delicatessen      5.952099e-06 -5.730385e-06 -6.056020e-06 -1.469259e-06  1.809235e-05  1.040324e-06\n"
     ]
    }
   ],
   "source": [
    "# TODO: Fit an ICA model to the data\n",
    "# Note: Adjust the data to have center at the origin first!\n",
    "from sklearn.decomposition import FastICA\n",
    "\n",
    "ica = FastICA(n_components = data.shape[1])\n",
    "ica.fit_transform(data)\n",
    "# Print the independent components\n",
    "pd.set_option('display.expand_frame_repr', False)\n",
    "df = pd.DataFrame(ica.components_,columns=data.columns).T\n",
    "df.columns = ['ICA-%i'%(n) for n in xrange(1,7)]\n",
    "print df"
   ]
  },
  {
   "cell_type": "markdown",
   "metadata": {},
   "source": [
    "**4)** For each vector in the ICA decomposition, write a sentence or two explaining what sort of object or property it corresponds to. What could these components be used for?"
   ]
  },
  {
   "cell_type": "markdown",
   "metadata": {
    "collapsed": true
   },
   "source": [
    "Answer: \n",
    "\n",
    "\n",
    "ICA-1: It is more correspond to Frozen (1.114620e-05) feature than other features. \n",
    "\n",
    "Fresh            -8.651571e-07,  \n",
    "Milk             -1.405604e-07,  \n",
    "Grocery           7.738996e-07,  \n",
    "Frozen            1.114620e-05,  \n",
    "Detergents_Paper -5.543345e-07,  \n",
    "Delicatessen     -5.952081e-06,  \n",
    "\n",
    "\n",
    "\n",
    "ICA-2: The most valuable value in this ICA is Grocery(-6.448052e-06)\n",
    "\n",
    "Fresh            :-2.102040e-07,  \n",
    "Milk              :1.881313e-06,  \n",
    "Grocery          :-6.448052e-06,  \n",
    "Frozen           :-4.083602e-07,  \n",
    "Detergents_Paper  :8.581204e-07,  \n",
    "Delicatessen      :1.465505e-06,  \n",
    "\n",
    "\n",
    "\n",
    "ICA-3: The largest absolute value of this IC corresponds to Delicatessen(1.809238e-05). Also it indicates Frozen (-5) and Detergents_Paper(+5) have reverse relationship.\n",
    "\n",
    "Fresh             :-3.864868e-07,  \n",
    "Milk              :-2.195676e-07,  \n",
    "Grocery           :-6.001236e-07,  \n",
    "Frozen            :-5.221177e-07,  \n",
    "Detergents_Paper   :5.094260e-07,  \n",
    "Delicatessen       :1.809238e-05,  \n",
    "\n",
    "\n",
    "\n",
    "ICA-4: It corresponds to Fresh with (-3.975999e-06), also Grocery (6) and Frozen(6) have same impact.\n",
    "\n",
    "Fresh             :-3.975999e-06,  \n",
    "Milk               :8.597850e-07,  \n",
    "Grocery            :6.290630e-07,  \n",
    "Frozen             :6.770578e-07,  \n",
    "Detergents_Paper  :-2.071218e-06,  \n",
    "Delicatessen       :1.040901e-06,  \n",
    "\n",
    "\n",
    "\n",
    "ICA-5: It seems it is more correspond to Detergents_Paper(2.820432e-05).\n",
    "\n",
    "Fresh              :2.989439e-07,  \n",
    "Milk              :-2.310651e-06,  \n",
    "Grocery           :-1.204737e-05,  \n",
    "Frozen             :1.463498e-06,  \n",
    "Detergents_Paper   :2.820432e-05,  \n",
    "Delicatessen       :5.729828e-06,  \n",
    "\n",
    "\n",
    "\n",
    "\n",
    "ICA-6: It corresponds to Milk 9.84\n",
    "\n",
    "Fresh             :1.536524e-07,  \n",
    "Milk              :9.845323e-06,  \n",
    "Grocery           :-5.810466e-06,  \n",
    "Frozen            :-3.638148e-07,  \n",
    "Detergents_Paper   :3.316383e-06,  \n",
    "Delicatessen      :-6.057262e-06,  \n",
    "\n",
    "\n",
    "\n",
    " "
   ]
  },
  {
   "cell_type": "markdown",
   "metadata": {},
   "source": [
    "##Clustering\n",
    "\n",
    "In this section you will choose either K Means clustering or Gaussian Mixed Models clustering, which implements expectation-maximization. Then you will sample elements from the clusters to understand their significance."
   ]
  },
  {
   "cell_type": "markdown",
   "metadata": {},
   "source": [
    "###Choose a Cluster Type\n",
    "\n",
    "**5)** What are the advantages of using K Means clustering or Gaussian Mixture Models?"
   ]
  },
  {
   "cell_type": "markdown",
   "metadata": {},
   "source": [
    "Answer: \n",
    "These two Models act really like each other. I think only differences between these two models can be about type of prediction. K-Means predicts deterministic (hard) so it is faster, especially when we have small numbers of K. Time complexity for K-Means is normally O (n^2 log n), Whereas Gaussian Mixture predicts more probabilistic (Soft). So it makes less mistake in comparison with k-Means in cases data points are near decision boundary.\n",
    "\n",
    "I want to use K-Means because it is deterministic and we don’t need to deal with probability at this point. Because we don’t know after how much certainty we can assign a data point to a cluster."
   ]
  },
  {
   "cell_type": "markdown",
   "metadata": {},
   "source": [
    "**6)** Below is some starter code to help you visualize some cluster data. The visualization is based on [this demo](http://scikit-learn.org/stable/auto_examples/cluster/plot_kmeans_digits.html) from the sklearn documentation."
   ]
  },
  {
   "cell_type": "code",
   "execution_count": 34,
   "metadata": {
    "collapsed": true
   },
   "outputs": [],
   "source": [
    "# Import clustering modules\n",
    "from sklearn.cluster import KMeans\n",
    "from sklearn.mixture import GMM"
   ]
  },
  {
   "cell_type": "code",
   "execution_count": 35,
   "metadata": {
    "collapsed": false
   },
   "outputs": [
    {
     "name": "stdout",
     "output_type": "stream",
     "text": [
      "[[  -650.02212207   1585.51909007]\n",
      " [  4426.80497937   4042.45150884]\n",
      " [  4841.9987068    2578.762176  ]\n",
      " [  -990.34643689  -6279.80599663]\n",
      " [-10657.99873116  -2159.72581518]\n",
      " [  2765.96159271   -959.87072713]\n",
      " [   715.55089221  -2013.00226567]\n",
      " [  4474.58366697   1429.49697204]\n",
      " [  6712.09539718  -2205.90915598]\n",
      " [  4823.63435407  13480.55920489]]\n"
     ]
    }
   ],
   "source": [
    "# TODO: First we reduce the data to two dimensions using PCA to capture variation\n",
    "pca = PCA(n_components=2)\n",
    "reduced_data = pca.fit_transform(data)\n",
    "print reduced_data[:10]  # print upto 10 elements"
   ]
  },
  {
   "cell_type": "code",
   "execution_count": 36,
   "metadata": {
    "collapsed": false
   },
   "outputs": [
    {
     "name": "stdout",
     "output_type": "stream",
     "text": [
      "2 Clusters:  KMeans(copy_x=True, init='k-means++', max_iter=500, n_clusters=2, n_init=10,\n",
      "    n_jobs=2, precompute_distances='auto', random_state=None, tol=0.0001,\n",
      "    verbose=0) \n",
      "\n",
      "\n",
      "3 Clusters:  KMeans(copy_x=True, init='k-means++', max_iter=500, n_clusters=3, n_init=10,\n",
      "    n_jobs=2, precompute_distances='auto', random_state=None, tol=0.0001,\n",
      "    verbose=0) \n",
      "\n",
      "\n",
      "4 Clusters:  KMeans(copy_x=True, init='k-means++', max_iter=500, n_clusters=4, n_init=10,\n",
      "    n_jobs=2, precompute_distances='auto', random_state=None, tol=0.0001,\n",
      "    verbose=0) \n",
      "\n",
      "\n",
      "5 Clusters:  KMeans(copy_x=True, init='k-means++', max_iter=500, n_clusters=5, n_init=10,\n",
      "    n_jobs=2, precompute_distances='auto', random_state=None, tol=0.0001,\n",
      "    verbose=0) \n",
      "\n",
      "\n"
     ]
    }
   ],
   "source": [
    "# TODO: Implement your clustering algorithm here, and fit it to the reduced data for visualization\n",
    "# The visualizer below assumes your clustering object is named 'clusters'\n",
    "\n",
    "clusters=[]\n",
    "for c in xrange(2,6):\n",
    "    clusters.append(KMeans(n_clusters=c,max_iter=500,n_jobs=2).fit(reduced_data))\n",
    "    print \"%d Clusters: \"%c ,clusters[-1],'\\n\\n'\n",
    "    "
   ]
  },
  {
   "cell_type": "code",
   "execution_count": 37,
   "metadata": {
    "collapsed": false
   },
   "outputs": [],
   "source": [
    "# Plot the decision boundary by building a mesh grid to populate a graph.\n",
    "x_min, x_max = reduced_data[:, 0].min() - 1, reduced_data[:, 0].max() + 1\n",
    "y_min, y_max = reduced_data[:, 1].min() - 1, reduced_data[:, 1].max() + 1\n",
    "hx = (x_max-x_min)/1000.\n",
    "hy = (y_max-y_min)/1000.\n",
    "xx, yy = np.meshgrid(np.arange(x_min, x_max, hx), np.arange(y_min, y_max, hy))\n",
    "\n",
    "# Obtain labels for each point in mesh. Use last trained model.\n",
    "Z=[]\n",
    "for x in range(4):\n",
    "    Z.append(clusters[x].predict(np.c_[xx.ravel(), yy.ravel()]))"
   ]
  },
  {
   "cell_type": "code",
   "execution_count": 38,
   "metadata": {
    "collapsed": false
   },
   "outputs": [
    {
     "name": "stdout",
     "output_type": "stream",
     "text": [
      "2 clusters:  \n",
      "[[  4175.31101293   -211.15109304]\n",
      " [-24088.33276689   1218.17938291]] \n",
      "\n",
      "\n",
      "3 clusters:  \n",
      "[[-23978.86566553  -4445.56611772]\n",
      " [  1341.31124554  25261.39189714]\n",
      " [  4165.1217824   -3105.15811456]] \n",
      "\n",
      "\n",
      "4 clusters:  \n",
      "[[  5548.08065188  13471.89133937]\n",
      " [  3651.92685912  -4691.85143582]\n",
      " [-24220.71188261  -4364.45560022]\n",
      " [-14537.71774395  61715.67085248]] \n",
      "\n",
      "\n",
      "5 clusters:  \n",
      "[[  5607.91709853  14199.18040025]\n",
      " [-37090.26267941  -5656.14400877]\n",
      " [-14537.71774395  61715.67085248]\n",
      " [ -8916.05497932  -4762.41444628]\n",
      " [  6399.7117556   -4169.29690862]] \n",
      "\n",
      "\n"
     ]
    }
   ],
   "source": [
    "# TODO: Find the centroids for KMeans or the cluster means for GMM \n",
    "\n",
    "centroids = []\n",
    "for x in range(4):\n",
    "    centroids.append(clusters[x].cluster_centers_)\n",
    "    print \"%d clusters: \"%(x+2), '\\n',centroids[x],'\\n\\n'"
   ]
  },
  {
   "cell_type": "code",
   "execution_count": 39,
   "metadata": {
    "collapsed": false
   },
   "outputs": [
    {
     "data": {
      "image/png": "[encoded data removed]",
      "text/plain": [
       "<matplotlib.figure.Figure at 0x114ed05d0>"
      ]
     },
     "metadata": {},
     "output_type": "display_data"
    },
    {
     "data": {
      "image/png": "[encoded data removed]",
      "text/plain": [
       "<matplotlib.figure.Figure at 0x114ec3890>"
      ]
     },
     "metadata": {},
     "output_type": "display_data"
    },
    {
     "data": {
      "image/png": "[encoded data removed]",
      "text/plain": [
       "<matplotlib.figure.Figure at 0x120c28fd0>"
      ]
     },
     "metadata": {},
     "output_type": "display_data"
    },
    {
     "data": {
      "image/png": "[encoded data removed]",
      "text/plain": [
       "<matplotlib.figure.Figure at 0x114eaba10>"
      ]
     },
     "metadata": {},
     "output_type": "display_data"
    }
   ],
   "source": [
    "# Put the result into a color plot\n",
    "\n",
    "for x in range(4):\n",
    "    Z[x] = Z[x].reshape(xx.shape)\n",
    "    plt.figure(1)\n",
    "    plt.clf()\n",
    "    plt.imshow(Z[x], interpolation='nearest',\n",
    "           extent=(xx.min(), xx.max(), yy.min(), yy.max()),\n",
    "           cmap=plt.cm.Paired,\n",
    "           aspect='auto', origin='lower')\n",
    "    \n",
    "    plt.plot(reduced_data[:, 0], reduced_data[:, 1], 'k.', markersize=2)\n",
    "    plt.scatter(centroids[x][:, 0], centroids[x][:, 1],\n",
    "            marker='x', s=169, linewidths=3,\n",
    "            color='w', zorder=10)\n",
    "    plt.title('Clustering on the wholesale grocery dataset (PCA-reduced data)\\n'\n",
    "          'Centroids are marked with white cross - %d Clusters ' % (x+2))\n",
    "    plt.xlim(x_min, x_max)\n",
    "    plt.ylim(y_min, y_max)\n",
    "    plt.xticks(())\n",
    "    plt.yticks(())\n",
    "    plt.show()"
   ]
  },
  {
   "cell_type": "markdown",
   "metadata": {},
   "source": [
    "**7)** What are the central objects in each cluster? Describe them as customers."
   ]
  },
  {
   "cell_type": "code",
   "execution_count": 40,
   "metadata": {
    "collapsed": false
   },
   "outputs": [
    {
     "name": "stdout",
     "output_type": "stream",
     "text": [
      "                     Cluster-1     Cluster-2    Cluster-3\n",
      "Fresh             35908.284778   7896.197899  8276.376354\n",
      "Milk               6409.089865  18663.600824  3689.872237\n",
      "Grocery            6027.837853  27183.753989  5320.730320\n",
      "Frozen             6808.698912   2394.582917  2495.453910\n",
      "Detergents_Paper   1088.151133  12120.223815  1776.402789\n",
      "Delicatessen       2904.194737   2875.421215  1063.966060\n"
     ]
    }
   ],
   "source": [
    "df = pd.DataFrame(pca.inverse_transform(centroids[1]),columns=data.columns).T\n",
    "df.columns=  ['Cluster-%i'% x for x in xrange(1,4)]\n",
    "print df\n"
   ]
  },
  {
   "cell_type": "markdown",
   "metadata": {
    "collapsed": true
   },
   "source": [
    "Answer:\n",
    "\n",
    "To answer this question I had to revert back centroids to actual value. I think 3 Clusters are the best for this model. \n",
    "\n",
    "Cluster-1 describes those customers who spend or order a lot of Grocery items because it has biggest number in this vector and then Milk, Detergents_Paperbut are next, but they spend so much less on Delicatessen, Frozen and Fresh in comparison with Milk because these three have lowest number ic Cluster-1\n",
    "\n",
    "Cluster-2 describes those types of customers who spend more on Fresh and Grocery in comarison with Delicatessen and Detergents_Paper. \n",
    "\n",
    "Cluster-3 describes those customers who spend a lot on Fresh because it is too high and also they spend same money on Milk, Grocery and Frozen and only a little on Detergents_Paper and Delicatessen"
   ]
  },
  {
   "cell_type": "markdown",
   "metadata": {},
   "source": [
    "###Conclusions\n",
    "\n",
    "** 8)** Which of these techniques did you feel gave you the most insight into the data?"
   ]
  },
  {
   "cell_type": "markdown",
   "metadata": {
    "collapsed": true
   },
   "source": [
    "Answer: \n",
    "\n",
    "I think PCA gave me most insight into the data; it lets you to see data's dimensionality and lets you to reduce it efficiently. Also you can see which features are playing most roles on each component.After PCA I would say ICA was helpful, but not as much as PCA.\n",
    "\n",
    "KMeans and plotting gave me a good understanding of my clusters and data. but if I have to chose only one I would definitely say PCA."
   ]
  },
  {
   "cell_type": "markdown",
   "metadata": {
    "collapsed": true
   },
   "source": [
    "**9)** How would you use that technique to help the company design new experiments?"
   ]
  },
  {
   "cell_type": "markdown",
   "metadata": {},
   "source": [
    "Answer: \n",
    "\n",
    "I think this clustering can help company to introduce each strategy only for some part of its customers not all of them. I mean you can have a better understanding of your customer requirements with PCA and clustering, so you can make a new customized strategy for each group of your customer to get a better result.\n",
    "\n",
    "We can chose few customers from each cluster and then apply our new strategy on each group_test and then evaluate our result. After certain time we can realize for which clusters the new strategy is useful."
   ]
  },
  {
   "cell_type": "markdown",
   "metadata": {},
   "source": [
    "**10)** How would you use that data to help you predict future customer needs?"
   ]
  },
  {
   "cell_type": "markdown",
   "metadata": {},
   "source": [
    "Answer: \n",
    "\n",
    "We can assign a label to each cluster(i.e. each data point inside that cluster) and then run any types of supervised learning algorithm. \n",
    "It really can be helpful to categorize online customers or new customers based on their first porches, in order to make a new suggestion to them.\n",
    "\n",
    "Because we know they are belong to which group and what they are exactly looking for and what should we suggest to them. For example based on cluster-3 we know whoever spends a lot of money on Fresh most probably spends same amount of money on Milk, Grocery and Frozen."
   ]
  },
  {
   "cell_type": "code",
   "execution_count": null,
   "metadata": {
    "collapsed": true
   },
   "outputs": [],
   "source": []
  }
 ],
 "metadata": {
  "kernelspec": {
   "display_name": "Python 2",
   "language": "python",
   "name": "python2"
  },
  "language_info": {
   "codemirror_mode": {
    "name": "ipython",
    "version": 2
   },
   "file_extension": ".py",
   "mimetype": "text/x-python",
   "name": "python",
   "nbconvert_exporter": "python",
   "pygments_lexer": "ipython2",
   "version": "2.7.10"
  }
 },
 "nbformat": 4,
 "nbformat_minor": 0
}
